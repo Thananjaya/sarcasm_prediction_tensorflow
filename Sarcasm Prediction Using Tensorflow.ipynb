{
 "cells": [
  {
   "cell_type": "markdown",
   "metadata": {},
   "source": [
    "### Sarcasm Prediction using Deep Learning\n",
    "\n",
    "This project is meant for differentiating whether the given passage is sarcasm or not. The Data's are captured in the json format and its been loaded afterwards for processing. \n",
    "\n",
    "#### Why Deep Learning?\n",
    "\n",
    "The data to be processed is huge, which results in large memory space and time for processing.Deep Learning out perform other techniques if the data size is large.As per Andrew Ng, the chief scientist of China’s major search engine Baidu and one of the leaders of the Google Brain Project, “The analogy to deep learning is that the rocket engine is the deep learning models and the fuel is the huge amounts of data we can feed to these algorithms.”\n",
    "\n",
    "##### Note:\n",
    "\n",
    "This project is constructed using keras, a high-level neural networks API which is written using Python and capable of running over TensorFlow.\n"
   ]
  },
  {
   "cell_type": "code",
   "execution_count": 1,
   "metadata": {},
   "outputs": [],
   "source": [
    "from tensorflow import keras\n",
    "from tensorflow.keras.preprocessing.text import Tokenizer\n",
    "from tensorflow.keras.preprocessing.sequence import pad_sequences\n",
    "import numpy as np\n",
    "import json"
   ]
  },
  {
   "cell_type": "markdown",
   "metadata": {},
   "source": [
    "##### About the dataset\n",
    "\n",
    "The dataset is saved as json file, which is loaded using context manager. Both the independent and dependent feature, headline and is_sarcastic respectively, is saved in the list."
   ]
  },
  {
   "cell_type": "code",
   "execution_count": 2,
   "metadata": {},
   "outputs": [],
   "source": [
    "with open(\"sarcasm.json\") as file:\n",
    "    data = json.load(file)"
   ]
  },
  {
   "cell_type": "code",
   "execution_count": 3,
   "metadata": {},
   "outputs": [],
   "source": [
    "headline = []\n",
    "sarcastic = []\n",
    "for content in data:\n",
    "    headline.append(content[\"headline\"])\n",
    "    sarcastic.append(content[\"is_sarcastic\"])"
   ]
  },
  {
   "cell_type": "code",
   "execution_count": 4,
   "metadata": {},
   "outputs": [
    {
     "data": {
      "text/plain": [
       "26709"
      ]
     },
     "execution_count": 4,
     "metadata": {},
     "output_type": "execute_result"
    }
   ],
   "source": [
    "len(headline)"
   ]
  },
  {
   "cell_type": "markdown",
   "metadata": {},
   "source": [
    "#### Splitting the dataset\n",
    "\n",
    "Dataset is splitted in to training dataset and testing dataset. Model will be fitted using training dataset and validated using new datasets which is not seed by the model during training, so called testing dataset. In this way, we can able to calculate the perfomance of the model.\n",
    "\n",
    "Slicing function, provided by python, is used for this purpose!!"
   ]
  },
  {
   "cell_type": "code",
   "execution_count": 5,
   "metadata": {},
   "outputs": [],
   "source": [
    "training_size = 15000"
   ]
  },
  {
   "cell_type": "code",
   "execution_count": 6,
   "metadata": {},
   "outputs": [],
   "source": [
    "training_data = headline[:training_size]\n",
    "testing_data = headline[training_size:]\n",
    "training_label = sarcastic[:training_size]\n",
    "testing_label = sarcastic[training_size:]"
   ]
  },
  {
   "cell_type": "markdown",
   "metadata": {},
   "source": [
    "why do we need vocabulary and embedding dimension and other paramteres, it at all I get the proper information"
   ]
  },
  {
   "cell_type": "code",
   "execution_count": 7,
   "metadata": {},
   "outputs": [],
   "source": [
    "vocabulary = 10000\n",
    "embedding_dim = 16\n",
    "max_length =  100\n",
    "trunc ='post'\n",
    "padding ='post'\n",
    "oov_token = \"<OOV>\""
   ]
  },
  {
   "cell_type": "markdown",
   "metadata": {},
   "source": [
    "stating about what tokenizer does, fits_on_texts, pad_sequences, texts_to_sequences"
   ]
  },
  {
   "cell_type": "code",
   "execution_count": 8,
   "metadata": {},
   "outputs": [],
   "source": [
    "tokenizer =Tokenizer(num_words=vocabulary, oov_token = oov_token)"
   ]
  },
  {
   "cell_type": "code",
   "execution_count": 9,
   "metadata": {},
   "outputs": [],
   "source": [
    "tokenizer.fit_on_texts(training_data)"
   ]
  },
  {
   "cell_type": "code",
   "execution_count": 10,
   "metadata": {},
   "outputs": [],
   "source": [
    "training_data = tokenizer.texts_to_sequences(training_data) "
   ]
  },
  {
   "cell_type": "code",
   "execution_count": 11,
   "metadata": {},
   "outputs": [],
   "source": [
    "padded_training_data = pad_sequences(training_data, padding=padding, truncating=trunc, maxlen=max_length)"
   ]
  },
  {
   "cell_type": "code",
   "execution_count": 12,
   "metadata": {},
   "outputs": [],
   "source": [
    "testing_data = tokenizer.texts_to_sequences(testing_data) "
   ]
  },
  {
   "cell_type": "code",
   "execution_count": 13,
   "metadata": {},
   "outputs": [],
   "source": [
    "padded_testing_data = pad_sequences(testing_data, padding=padding, truncating=trunc, maxlen=max_length)"
   ]
  },
  {
   "cell_type": "markdown",
   "metadata": {},
   "source": [
    "np array why?"
   ]
  },
  {
   "cell_type": "code",
   "execution_count": 14,
   "metadata": {},
   "outputs": [],
   "source": [
    "training_data = np.array(padded_training_data)\n",
    "testing_data = np.array(padded_testing_data)\n",
    "training_label = np.array(training_label)\n",
    "testing_label = np.array(testing_label)"
   ]
  },
  {
   "cell_type": "markdown",
   "metadata": {},
   "source": [
    "about keras sequential, Embedding and global average pooling 1d relu sigmoid"
   ]
  },
  {
   "cell_type": "code",
   "execution_count": 15,
   "metadata": {},
   "outputs": [],
   "source": [
    "model = keras.Sequential()"
   ]
  },
  {
   "cell_type": "code",
   "execution_count": 16,
   "metadata": {},
   "outputs": [],
   "source": [
    "model.add(keras.layers.Embedding(vocabulary, embedding_dim, input_length=max_length))"
   ]
  },
  {
   "cell_type": "code",
   "execution_count": 17,
   "metadata": {},
   "outputs": [],
   "source": [
    "model.add(keras.layers.GlobalAveragePooling1D())"
   ]
  },
  {
   "cell_type": "code",
   "execution_count": 18,
   "metadata": {},
   "outputs": [],
   "source": [
    "model.add(keras.layers.Dense(24, activation='relu'))"
   ]
  },
  {
   "cell_type": "code",
   "execution_count": 19,
   "metadata": {},
   "outputs": [],
   "source": [
    "model.add(keras.layers.Dense(1, activation='sigmoid'))"
   ]
  },
  {
   "cell_type": "code",
   "execution_count": 20,
   "metadata": {},
   "outputs": [],
   "source": [
    "model.compile(optimizer=\"adam\", loss=keras.losses.BinaryCrossentropy(), metrics=['accuracy'])"
   ]
  },
  {
   "cell_type": "code",
   "execution_count": 21,
   "metadata": {},
   "outputs": [
    {
     "name": "stdout",
     "output_type": "stream",
     "text": [
      "Model: \"sequential\"\n",
      "_________________________________________________________________\n",
      "Layer (type)                 Output Shape              Param #   \n",
      "=================================================================\n",
      "embedding (Embedding)        (None, 100, 16)           160000    \n",
      "_________________________________________________________________\n",
      "global_average_pooling1d (Gl (None, 16)                0         \n",
      "_________________________________________________________________\n",
      "dense (Dense)                (None, 24)                408       \n",
      "_________________________________________________________________\n",
      "dense_1 (Dense)              (None, 1)                 25        \n",
      "=================================================================\n",
      "Total params: 160,433\n",
      "Trainable params: 160,433\n",
      "Non-trainable params: 0\n",
      "_________________________________________________________________\n"
     ]
    }
   ],
   "source": [
    "model.summary()"
   ]
  },
  {
   "cell_type": "code",
   "execution_count": 22,
   "metadata": {},
   "outputs": [
    {
     "name": "stdout",
     "output_type": "stream",
     "text": [
      "Train on 15000 samples, validate on 11709 samples\n",
      "Epoch 1/25\n",
      "15000/15000 - 3s - loss: 0.6801 - accuracy: 0.5563 - val_loss: 0.6487 - val_accuracy: 0.5971\n",
      "Epoch 2/25\n",
      "15000/15000 - 2s - loss: 0.5288 - accuracy: 0.7646 - val_loss: 0.4361 - val_accuracy: 0.8280\n",
      "Epoch 3/25\n",
      "15000/15000 - 3s - loss: 0.3564 - accuracy: 0.8675 - val_loss: 0.3777 - val_accuracy: 0.8352\n",
      "Epoch 4/25\n",
      "15000/15000 - 3s - loss: 0.2856 - accuracy: 0.8913 - val_loss: 0.3526 - val_accuracy: 0.8492\n",
      "Epoch 5/25\n",
      "15000/15000 - 2s - loss: 0.2411 - accuracy: 0.9088 - val_loss: 0.3470 - val_accuracy: 0.8503\n",
      "Epoch 6/25\n",
      "15000/15000 - 3s - loss: 0.2089 - accuracy: 0.9224 - val_loss: 0.3463 - val_accuracy: 0.8530\n",
      "Epoch 7/25\n",
      "15000/15000 - 2s - loss: 0.1815 - accuracy: 0.9349 - val_loss: 0.3530 - val_accuracy: 0.8510\n",
      "Epoch 8/25\n",
      "15000/15000 - 2s - loss: 0.1593 - accuracy: 0.9435 - val_loss: 0.3616 - val_accuracy: 0.8508\n",
      "Epoch 9/25\n",
      "15000/15000 - 3s - loss: 0.1399 - accuracy: 0.9517 - val_loss: 0.3765 - val_accuracy: 0.8505\n",
      "Epoch 10/25\n",
      "15000/15000 - 3s - loss: 0.1234 - accuracy: 0.9597 - val_loss: 0.3923 - val_accuracy: 0.8482\n",
      "Epoch 11/25\n",
      "15000/15000 - 3s - loss: 0.1105 - accuracy: 0.9637 - val_loss: 0.4296 - val_accuracy: 0.8424\n",
      "Epoch 12/25\n",
      "15000/15000 - 3s - loss: 0.0986 - accuracy: 0.9694 - val_loss: 0.4445 - val_accuracy: 0.8421\n",
      "Epoch 13/25\n",
      "15000/15000 - 2s - loss: 0.0888 - accuracy: 0.9727 - val_loss: 0.4779 - val_accuracy: 0.8308\n",
      "Epoch 14/25\n",
      "15000/15000 - 3s - loss: 0.0804 - accuracy: 0.9764 - val_loss: 0.4920 - val_accuracy: 0.8378\n",
      "Epoch 15/25\n",
      "15000/15000 - 2s - loss: 0.0720 - accuracy: 0.9795 - val_loss: 0.5063 - val_accuracy: 0.8370\n",
      "Epoch 16/25\n",
      "15000/15000 - 3s - loss: 0.0645 - accuracy: 0.9821 - val_loss: 0.5337 - val_accuracy: 0.8338\n",
      "Epoch 17/25\n",
      "15000/15000 - 3s - loss: 0.0589 - accuracy: 0.9841 - val_loss: 0.5687 - val_accuracy: 0.8335\n",
      "Epoch 18/25\n",
      "15000/15000 - 2s - loss: 0.0521 - accuracy: 0.9870 - val_loss: 0.6073 - val_accuracy: 0.8311\n",
      "Epoch 19/25\n",
      "15000/15000 - 3s - loss: 0.0485 - accuracy: 0.9875 - val_loss: 0.6203 - val_accuracy: 0.8318\n",
      "Epoch 20/25\n",
      "15000/15000 - 5s - loss: 0.0433 - accuracy: 0.9889 - val_loss: 0.6511 - val_accuracy: 0.8286\n",
      "Epoch 21/25\n",
      "15000/15000 - 4s - loss: 0.0402 - accuracy: 0.9898 - val_loss: 0.6765 - val_accuracy: 0.8259\n",
      "Epoch 22/25\n",
      "15000/15000 - 3s - loss: 0.0362 - accuracy: 0.9911 - val_loss: 0.7487 - val_accuracy: 0.8252\n",
      "Epoch 23/25\n",
      "15000/15000 - 3s - loss: 0.0324 - accuracy: 0.9923 - val_loss: 0.7734 - val_accuracy: 0.8243\n",
      "Epoch 24/25\n",
      "15000/15000 - 2s - loss: 0.0296 - accuracy: 0.9934 - val_loss: 0.7739 - val_accuracy: 0.8216\n",
      "Epoch 25/25\n",
      "15000/15000 - 2s - loss: 0.0276 - accuracy: 0.9934 - val_loss: 0.8215 - val_accuracy: 0.8213\n"
     ]
    }
   ],
   "source": [
    "history = model.fit(training_data, training_label, epochs=25, validation_data=(testing_data, testing_label), verbose=2)"
   ]
  },
  {
   "cell_type": "code",
   "execution_count": 23,
   "metadata": {},
   "outputs": [],
   "source": [
    "import matplotlib.pyplot as plt"
   ]
  },
  {
   "cell_type": "code",
   "execution_count": 24,
   "metadata": {},
   "outputs": [],
   "source": [
    "def display_plot(string, history):\n",
    "    plt.plot(history.history[string])\n",
    "    plt.plot(history.history['val_'+string])\n",
    "    plt.xlabel('epochs')\n",
    "    plt.ylabel(string)\n",
    "    plt.legend([string, 'val_'+string])\n",
    "    plt.show()"
   ]
  },
  {
   "cell_type": "code",
   "execution_count": 25,
   "metadata": {},
   "outputs": [
    {
     "data": {
      "image/png": "[encoded data removed]",
      "text/plain": [
       "<Figure size 432x288 with 1 Axes>"
      ]
     },
     "metadata": {
      "needs_background": "light"
     },
     "output_type": "display_data"
    }
   ],
   "source": [
    "display_plot('accuracy', history)"
   ]
  },
  {
   "cell_type": "code",
   "execution_count": 26,
   "metadata": {},
   "outputs": [
    {
     "data": {
      "image/png": "[encoded data removed]",
      "text/plain": [
       "<Figure size 432x288 with 1 Axes>"
      ]
     },
     "metadata": {
      "needs_background": "light"
     },
     "output_type": "display_data"
    }
   ],
   "source": [
    "display_plot('loss', history)"
   ]
  },
  {
   "cell_type": "code",
   "execution_count": 27,
   "metadata": {},
   "outputs": [
    {
     "name": "stdout",
     "output_type": "stream",
     "text": [
      "[[9.3029052e-01]\n",
      " [1.6304148e-07]]\n"
     ]
    }
   ],
   "source": [
    "sentence = [\"granny starting to fear spiders in the garden might be real\", \"game of thrones season finale showing this sunday night\"]\n",
    "sequences = tokenizer.texts_to_sequences(sentence)\n",
    "padded = pad_sequences(sequences, maxlen=max_length, padding=padding, truncating=trunc)\n",
    "print(model.predict(padded))"
   ]
  }
 ],
 "metadata": {
  "kernelspec": {
   "display_name": "Python 3",
   "language": "python",
   "name": "python3"
  },
  "language_info": {
   "codemirror_mode": {
    "name": "ipython",
    "version": 3
   },
   "file_extension": ".py",
   "mimetype": "text/x-python",
   "name": "python",
   "nbconvert_exporter": "python",
   "pygments_lexer": "ipython3",
   "version": "3.7.5"
  }
 },
 "nbformat": 4,
 "nbformat_minor": 4
}
