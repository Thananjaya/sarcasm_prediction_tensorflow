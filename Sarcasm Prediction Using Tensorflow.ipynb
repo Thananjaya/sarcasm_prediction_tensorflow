{
 "cells": [
  {
   "cell_type": "code",
   "execution_count": 1,
   "metadata": {},
   "outputs": [],
   "source": [
    "from tensorflow import keras\n",
    "from tensorflow.keras.preprocessing.text import Tokenizer\n",
    "from tensorflow.keras.preprocessing.sequence import pad_sequences\n",
    "import numpy as np\n",
    "import json"
   ]
  },
  {
   "cell_type": "code",
   "execution_count": 2,
   "metadata": {},
   "outputs": [],
   "source": [
    "with open(\"sarcasm.json\") as file:\n",
    "    data = json.load(file)"
   ]
  },
  {
   "cell_type": "code",
   "execution_count": 3,
   "metadata": {},
   "outputs": [],
   "source": [
    "headline = []\n",
    "sarcastic = []\n",
    "for content in data:\n",
    "    headline.append(content[\"headline\"])\n",
    "    sarcastic.append(content[\"is_sarcastic\"])"
   ]
  },
  {
   "cell_type": "code",
   "execution_count": 4,
   "metadata": {},
   "outputs": [
    {
     "data": {
      "text/plain": [
       "26709"
      ]
     },
     "execution_count": 4,
     "metadata": {},
     "output_type": "execute_result"
    }
   ],
   "source": [
    "len(headline)"
   ]
  },
  {
   "cell_type": "code",
   "execution_count": 5,
   "metadata": {},
   "outputs": [],
   "source": [
    "training_size = 15000"
   ]
  },
  {
   "cell_type": "code",
   "execution_count": 6,
   "metadata": {},
   "outputs": [],
   "source": [
    "training_data = headline[:training_size]\n",
    "testing_data = headline[training_size:]\n",
    "training_label = sarcastic[:training_size]\n",
    "testing_label = sarcastic[training_size:]"
   ]
  },
  {
   "cell_type": "code",
   "execution_count": 7,
   "metadata": {},
   "outputs": [],
   "source": [
    "vocabulary = 10000\n",
    "embedding_dim = 16\n",
    "max_length =  100\n",
    "trunc ='post'\n",
    "padding ='post'\n",
    "oov_tok = \"<OOV>\""
   ]
  },
  {
   "cell_type": "code",
   "execution_count": 8,
   "metadata": {},
   "outputs": [],
   "source": [
    "tokenizer =Tokenizer(num_words=vocabulary, oov_token = oov_tok)"
   ]
  },
  {
   "cell_type": "code",
   "execution_count": 9,
   "metadata": {},
   "outputs": [],
   "source": [
    "tokenizer.fit_on_texts(training_data)"
   ]
  },
  {
   "cell_type": "code",
   "execution_count": 10,
   "metadata": {},
   "outputs": [],
   "source": [
    "training_data = tokenizer.texts_to_sequences(training_data) "
   ]
  },
  {
   "cell_type": "code",
   "execution_count": 11,
   "metadata": {},
   "outputs": [],
   "source": [
    "padded_training_data = pad_sequences(training_data, padding=padding, truncating=trunc, maxlen=max_length)"
   ]
  },
  {
   "cell_type": "code",
   "execution_count": 12,
   "metadata": {},
   "outputs": [],
   "source": [
    "testing_data = tokenizer.texts_to_sequences(testing_data) "
   ]
  },
  {
   "cell_type": "code",
   "execution_count": 13,
   "metadata": {},
   "outputs": [],
   "source": [
    "padded_testing_data = pad_sequences(testing_data, padding=padding, truncating=trunc, maxlen=max_length)"
   ]
  },
  {
   "cell_type": "code",
   "execution_count": 14,
   "metadata": {},
   "outputs": [],
   "source": [
    "training_data = np.array(padded_training_data)\n",
    "testing_data = np.array(padded_testing_data)\n",
    "training_label = np.array(training_label)\n",
    "testing_label = np.array(testing_label)"
   ]
  },
  {
   "cell_type": "code",
   "execution_count": 15,
   "metadata": {},
   "outputs": [],
   "source": [
    "model = keras.Sequential()"
   ]
  },
  {
   "cell_type": "code",
   "execution_count": 16,
   "metadata": {},
   "outputs": [],
   "source": [
    "model.add(keras.layers.Embedding(vocabulary, embedding_dim, input_length=max_length))"
   ]
  },
  {
   "cell_type": "code",
   "execution_count": 17,
   "metadata": {},
   "outputs": [],
   "source": [
    "model.add(keras.layers.GlobalAveragePooling1D())"
   ]
  },
  {
   "cell_type": "code",
   "execution_count": 18,
   "metadata": {},
   "outputs": [],
   "source": [
    "model.add(keras.layers.Dense(24, activation='relu'))"
   ]
  },
  {
   "cell_type": "code",
   "execution_count": 19,
   "metadata": {},
   "outputs": [],
   "source": [
    "model.add(keras.layers.Dense(1, activation='sigmoid'))"
   ]
  },
  {
   "cell_type": "code",
   "execution_count": 20,
   "metadata": {},
   "outputs": [],
   "source": [
    "model.compile(optimizer=\"adam\", loss=keras.losses.BinaryCrossentropy(), metrics=['accuracy'])"
   ]
  },
  {
   "cell_type": "code",
   "execution_count": 21,
   "metadata": {},
   "outputs": [
    {
     "name": "stdout",
     "output_type": "stream",
     "text": [
      "Model: \"sequential\"\n",
      "_________________________________________________________________\n",
      "Layer (type)                 Output Shape              Param #   \n",
      "=================================================================\n",
      "embedding (Embedding)        (None, 100, 16)           160000    \n",
      "_________________________________________________________________\n",
      "global_average_pooling1d (Gl (None, 16)                0         \n",
      "_________________________________________________________________\n",
      "dense (Dense)                (None, 24)                408       \n",
      "_________________________________________________________________\n",
      "dense_1 (Dense)              (None, 1)                 25        \n",
      "=================================================================\n",
      "Total params: 160,433\n",
      "Trainable params: 160,433\n",
      "Non-trainable params: 0\n",
      "_________________________________________________________________\n"
     ]
    }
   ],
   "source": [
    "model.summary()"
   ]
  },
  {
   "cell_type": "code",
   "execution_count": 22,
   "metadata": {},
   "outputs": [
    {
     "name": "stdout",
     "output_type": "stream",
     "text": [
      "Train on 15000 samples, validate on 11709 samples\n",
      "Epoch 1/25\n",
      "15000/15000 - 3s - loss: 0.6801 - accuracy: 0.5600 - val_loss: 0.6463 - val_accuracy: 0.5819\n",
      "Epoch 2/25\n",
      "15000/15000 - 2s - loss: 0.5011 - accuracy: 0.7840 - val_loss: 0.4096 - val_accuracy: 0.8277\n",
      "Epoch 3/25\n",
      "15000/15000 - 3s - loss: 0.3315 - accuracy: 0.8691 - val_loss: 0.3686 - val_accuracy: 0.8375\n",
      "Epoch 4/25\n",
      "15000/15000 - 3s - loss: 0.2674 - accuracy: 0.8987 - val_loss: 0.3475 - val_accuracy: 0.8495\n",
      "Epoch 5/25\n",
      "15000/15000 - 2s - loss: 0.2263 - accuracy: 0.9137 - val_loss: 0.3520 - val_accuracy: 0.8482\n",
      "Epoch 6/25\n",
      "15000/15000 - 2s - loss: 0.1943 - accuracy: 0.9297 - val_loss: 0.3743 - val_accuracy: 0.8414\n",
      "Epoch 7/25\n",
      "15000/15000 - 3s - loss: 0.1676 - accuracy: 0.9405 - val_loss: 0.3602 - val_accuracy: 0.8508\n",
      "Epoch 8/25\n",
      "15000/15000 - 2s - loss: 0.1478 - accuracy: 0.9487 - val_loss: 0.3728 - val_accuracy: 0.8498\n",
      "Epoch 9/25\n",
      "15000/15000 - 2s - loss: 0.1281 - accuracy: 0.9575 - val_loss: 0.3937 - val_accuracy: 0.8490\n",
      "Epoch 10/25\n",
      "15000/15000 - 2s - loss: 0.1131 - accuracy: 0.9629 - val_loss: 0.4120 - val_accuracy: 0.8471\n",
      "Epoch 11/25\n",
      "15000/15000 - 2s - loss: 0.1002 - accuracy: 0.9681 - val_loss: 0.4396 - val_accuracy: 0.8443\n",
      "Epoch 12/25\n",
      "15000/15000 - 2s - loss: 0.0899 - accuracy: 0.9723 - val_loss: 0.4594 - val_accuracy: 0.8419\n",
      "Epoch 13/25\n",
      "15000/15000 - 2s - loss: 0.0801 - accuracy: 0.9769 - val_loss: 0.4865 - val_accuracy: 0.8393\n",
      "Epoch 14/25\n",
      "15000/15000 - 2s - loss: 0.0702 - accuracy: 0.9792 - val_loss: 0.5183 - val_accuracy: 0.8374\n",
      "Epoch 15/25\n",
      "15000/15000 - 2s - loss: 0.0633 - accuracy: 0.9827 - val_loss: 0.5460 - val_accuracy: 0.8359\n",
      "Epoch 16/25\n",
      "15000/15000 - 2s - loss: 0.0568 - accuracy: 0.9843 - val_loss: 0.5752 - val_accuracy: 0.8331\n",
      "Epoch 17/25\n",
      "15000/15000 - 2s - loss: 0.0508 - accuracy: 0.9857 - val_loss: 0.6059 - val_accuracy: 0.8323\n",
      "Epoch 18/25\n",
      "15000/15000 - 2s - loss: 0.0456 - accuracy: 0.9881 - val_loss: 0.6511 - val_accuracy: 0.8296\n",
      "Epoch 19/25\n",
      "15000/15000 - 2s - loss: 0.0417 - accuracy: 0.9886 - val_loss: 0.6886 - val_accuracy: 0.8288\n",
      "Epoch 20/25\n",
      "15000/15000 - 2s - loss: 0.0371 - accuracy: 0.9899 - val_loss: 0.7313 - val_accuracy: 0.8266\n",
      "Epoch 21/25\n",
      "15000/15000 - 2s - loss: 0.0340 - accuracy: 0.9923 - val_loss: 0.7517 - val_accuracy: 0.8244\n",
      "Epoch 22/25\n",
      "15000/15000 - 2s - loss: 0.0320 - accuracy: 0.9917 - val_loss: 0.7993 - val_accuracy: 0.8223\n",
      "Epoch 23/25\n",
      "15000/15000 - 2s - loss: 0.0266 - accuracy: 0.9943 - val_loss: 0.8091 - val_accuracy: 0.8184\n",
      "Epoch 24/25\n",
      "15000/15000 - 2s - loss: 0.0255 - accuracy: 0.9939 - val_loss: 0.8683 - val_accuracy: 0.8180\n",
      "Epoch 25/25\n",
      "15000/15000 - 3s - loss: 0.0220 - accuracy: 0.9952 - val_loss: 0.8901 - val_accuracy: 0.8150\n"
     ]
    }
   ],
   "source": [
    "history = model.fit(training_data, training_label, epochs=25, validation_data=(testing_data, testing_label), verbose=2)"
   ]
  },
  {
   "cell_type": "code",
   "execution_count": 23,
   "metadata": {},
   "outputs": [],
   "source": [
    "import matplotlib.pyplot as plt"
   ]
  },
  {
   "cell_type": "code",
   "execution_count": 24,
   "metadata": {},
   "outputs": [],
   "source": [
    "def display_plot(string, history):\n",
    "    plt.plot(history.history[string])\n",
    "    plt.plot(history.history['val_'+string])\n",
    "    plt.xlabel('epochs')\n",
    "    plt.ylabel(string)\n",
    "    plt.legend([string, 'val_'+string])\n",
    "    plt.show()"
   ]
  },
  {
   "cell_type": "code",
   "execution_count": 25,
   "metadata": {},
   "outputs": [
    {
     "data": {
      "image/png": "[encoded data removed]",
      "text/plain": [
       "<Figure size 432x288 with 1 Axes>"
      ]
     },
     "metadata": {
      "needs_background": "light"
     },
     "output_type": "display_data"
    }
   ],
   "source": [
    "display_plot('accuracy', history)"
   ]
  },
  {
   "cell_type": "code",
   "execution_count": 26,
   "metadata": {},
   "outputs": [
    {
     "data": {
      "image/png": "[encoded data removed]",
      "text/plain": [
       "<Figure size 432x288 with 1 Axes>"
      ]
     },
     "metadata": {
      "needs_background": "light"
     },
     "output_type": "display_data"
    }
   ],
   "source": [
    "display_plot('loss', history)"
   ]
  },
  {
   "cell_type": "code",
   "execution_count": 27,
   "metadata": {},
   "outputs": [
    {
     "name": "stdout",
     "output_type": "stream",
     "text": [
      "[[9.8006755e-01]\n",
      " [3.6457067e-08]]\n"
     ]
    }
   ],
   "source": [
    "sentence = [\"granny starting to fear spiders in the garden might be real\", \"game of thrones season finale showing this sunday night\"]\n",
    "sequences = tokenizer.texts_to_sequences(sentence)\n",
    "padded = pad_sequences(sequences, maxlen=max_length, padding=padding, truncating=trunc)\n",
    "print(model.predict(padded))"
   ]
  }
 ],
 "metadata": {
  "kernelspec": {
   "display_name": "Python 3",
   "language": "python",
   "name": "python3"
  },
  "language_info": {
   "codemirror_mode": {
    "name": "ipython",
    "version": 3
   },
   "file_extension": ".py",
   "mimetype": "text/x-python",
   "name": "python",
   "nbconvert_exporter": "python",
   "pygments_lexer": "ipython3",
   "version": "3.7.5"
  }
 },
 "nbformat": 4,
 "nbformat_minor": 4
}
